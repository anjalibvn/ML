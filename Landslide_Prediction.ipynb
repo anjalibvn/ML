{
  "nbformat": 4,
  "nbformat_minor": 0,
  "metadata": {
    "colab": {
      "provenance": [],
      "include_colab_link": true
    },
    "kernelspec": {
      "name": "python3",
      "display_name": "Python 3"
    },
    "language_info": {
      "name": "python"
    }
  },
  "cells": [
    {
      "cell_type": "markdown",
      "metadata": {
        "id": "view-in-github",
        "colab_type": "text"
      },
      "source": [
        "<a href=\"https://colab.research.google.com/github/anjalibvn/ML/blob/main/Landslide_Prediction.ipynb\" target=\"_parent\"><img src=\"https://colab.research.google.com/assets/colab-badge.svg\" alt=\"Open In Colab\"/></a>"
      ]
    },
    {
      "cell_type": "code",
      "source": [
        "from google.colab import drive\n",
        "drive.mount('/content/drive/')"
      ],
      "metadata": {
        "id": "hZN8pNgQOnrD",
        "colab": {
          "base_uri": "https://localhost:8080/"
        },
        "outputId": "97067101-dd7c-40dc-901e-e6bebd8b19d2"
      },
      "execution_count": null,
      "outputs": [
        {
          "output_type": "stream",
          "name": "stdout",
          "text": [
            "Drive already mounted at /content/drive/; to attempt to forcibly remount, call drive.mount(\"/content/drive/\", force_remount=True).\n"
          ]
        }
      ]
    },
    {
      "cell_type": "code",
      "source": [
        "pip install gradio"
      ],
      "metadata": {
        "colab": {
          "base_uri": "https://localhost:8080/"
        },
        "id": "JH1-JPRYB3a2",
        "outputId": "a150324d-00ad-403c-b9a4-2023769effc3"
      },
      "execution_count": null,
      "outputs": [
        {
          "output_type": "stream",
          "name": "stdout",
          "text": [
            "Looking in indexes: https://pypi.org/simple, https://us-python.pkg.dev/colab-wheels/public/simple/\n",
            "Collecting gradio\n",
            "  Downloading gradio-3.17.0-py3-none-any.whl (14.2 MB)\n",
            "\u001b[2K     \u001b[90m━━━━━━━━━━━━━━━━━━━━━━━━━━━━━━━━━━━━━━━━\u001b[0m \u001b[32m14.2/14.2 MB\u001b[0m \u001b[31m59.3 MB/s\u001b[0m eta \u001b[36m0:00:00\u001b[0m\n",
            "\u001b[?25hCollecting ffmpy\n",
            "  Downloading ffmpy-0.3.0.tar.gz (4.8 kB)\n",
            "  Preparing metadata (setup.py) ... \u001b[?25l\u001b[?25hdone\n",
            "Requirement already satisfied: requests in /usr/local/lib/python3.8/dist-packages (from gradio) (2.25.1)\n",
            "Requirement already satisfied: fsspec in /usr/local/lib/python3.8/dist-packages (from gradio) (2022.11.0)\n",
            "Requirement already satisfied: aiohttp in /usr/local/lib/python3.8/dist-packages (from gradio) (3.8.3)\n",
            "Requirement already satisfied: markupsafe in /usr/local/lib/python3.8/dist-packages (from gradio) (2.0.1)\n",
            "Collecting orjson\n",
            "  Downloading orjson-3.8.5-cp38-cp38-manylinux_2_28_x86_64.whl (140 kB)\n",
            "\u001b[2K     \u001b[90m━━━━━━━━━━━━━━━━━━━━━━━━━━━━━━━━━━━━━━\u001b[0m \u001b[32m140.6/140.6 KB\u001b[0m \u001b[31m17.5 MB/s\u001b[0m eta \u001b[36m0:00:00\u001b[0m\n",
            "\u001b[?25hRequirement already satisfied: pyyaml in /usr/local/lib/python3.8/dist-packages (from gradio) (6.0)\n",
            "Requirement already satisfied: numpy in /usr/local/lib/python3.8/dist-packages (from gradio) (1.21.6)\n",
            "Requirement already satisfied: matplotlib in /usr/local/lib/python3.8/dist-packages (from gradio) (3.2.2)\n",
            "Collecting markdown-it-py[linkify,plugins]\n",
            "  Downloading markdown_it_py-2.1.0-py3-none-any.whl (84 kB)\n",
            "\u001b[2K     \u001b[90m━━━━━━━━━━━━━━━━━━━━━━━━━━━━━━━━━━━━━━━━\u001b[0m \u001b[32m84.5/84.5 KB\u001b[0m \u001b[31m9.9 MB/s\u001b[0m eta \u001b[36m0:00:00\u001b[0m\n",
            "\u001b[?25hCollecting httpx\n",
            "  Downloading httpx-0.23.3-py3-none-any.whl (71 kB)\n",
            "\u001b[2K     \u001b[90m━━━━━━━━━━━━━━━━━━━━━━━━━━━━━━━━━━━━━━━━\u001b[0m \u001b[32m71.5/71.5 KB\u001b[0m \u001b[31m7.7 MB/s\u001b[0m eta \u001b[36m0:00:00\u001b[0m\n",
            "\u001b[?25hRequirement already satisfied: jinja2 in /usr/local/lib/python3.8/dist-packages (from gradio) (2.11.3)\n",
            "Collecting uvicorn\n",
            "  Downloading uvicorn-0.20.0-py3-none-any.whl (56 kB)\n",
            "\u001b[2K     \u001b[90m━━━━━━━━━━━━━━━━━━━━━━━━━━━━━━━━━━━━━━━━\u001b[0m \u001b[32m56.9/56.9 KB\u001b[0m \u001b[31m6.5 MB/s\u001b[0m eta \u001b[36m0:00:00\u001b[0m\n",
            "\u001b[?25hCollecting python-multipart\n",
            "  Downloading python-multipart-0.0.5.tar.gz (32 kB)\n",
            "  Preparing metadata (setup.py) ... \u001b[?25l\u001b[?25hdone\n",
            "Collecting fastapi\n",
            "  Downloading fastapi-0.89.1-py3-none-any.whl (55 kB)\n",
            "\u001b[2K     \u001b[90m━━━━━━━━━━━━━━━━━━━━━━━━━━━━━━━━━━━━━━━━\u001b[0m \u001b[32m55.8/55.8 KB\u001b[0m \u001b[31m6.3 MB/s\u001b[0m eta \u001b[36m0:00:00\u001b[0m\n",
            "\u001b[?25hRequirement already satisfied: typing-extensions in /usr/local/lib/python3.8/dist-packages (from gradio) (4.4.0)\n",
            "Collecting websockets>=10.0\n",
            "  Downloading websockets-10.4-cp38-cp38-manylinux_2_5_x86_64.manylinux1_x86_64.manylinux_2_17_x86_64.manylinux2014_x86_64.whl (106 kB)\n",
            "\u001b[2K     \u001b[90m━━━━━━━━━━━━━━━━━━━━━━━━━━━━━━━━━━━━━━\u001b[0m \u001b[32m107.0/107.0 KB\u001b[0m \u001b[31m12.0 MB/s\u001b[0m eta \u001b[36m0:00:00\u001b[0m\n",
            "\u001b[?25hRequirement already satisfied: pydantic in /usr/local/lib/python3.8/dist-packages (from gradio) (1.10.4)\n",
            "Requirement already satisfied: pillow in /usr/local/lib/python3.8/dist-packages (from gradio) (7.1.2)\n",
            "Collecting pycryptodome\n",
            "  Downloading pycryptodome-3.17-cp35-abi3-manylinux_2_17_x86_64.manylinux2014_x86_64.whl (2.1 MB)\n",
            "\u001b[2K     \u001b[90m━━━━━━━━━━━━━━━━━━━━━━━━━━━━━━━━━━━━━━━━\u001b[0m \u001b[32m2.1/2.1 MB\u001b[0m \u001b[31m64.6 MB/s\u001b[0m eta \u001b[36m0:00:00\u001b[0m\n",
            "\u001b[?25hRequirement already satisfied: altair>=4.2.0 in /usr/local/lib/python3.8/dist-packages (from gradio) (4.2.0)\n",
            "Collecting pydub\n",
            "  Downloading pydub-0.25.1-py2.py3-none-any.whl (32 kB)\n",
            "Requirement already satisfied: pandas in /usr/local/lib/python3.8/dist-packages (from gradio) (1.3.5)\n",
            "Collecting aiofiles\n",
            "  Downloading aiofiles-22.1.0-py3-none-any.whl (14 kB)\n",
            "Requirement already satisfied: toolz in /usr/local/lib/python3.8/dist-packages (from altair>=4.2.0->gradio) (0.12.0)\n",
            "Requirement already satisfied: entrypoints in /usr/local/lib/python3.8/dist-packages (from altair>=4.2.0->gradio) (0.4)\n",
            "Requirement already satisfied: jsonschema>=3.0 in /usr/local/lib/python3.8/dist-packages (from altair>=4.2.0->gradio) (4.3.3)\n",
            "Requirement already satisfied: python-dateutil>=2.7.3 in /usr/local/lib/python3.8/dist-packages (from pandas->gradio) (2.8.2)\n",
            "Requirement already satisfied: pytz>=2017.3 in /usr/local/lib/python3.8/dist-packages (from pandas->gradio) (2022.7)\n",
            "Requirement already satisfied: multidict<7.0,>=4.5 in /usr/local/lib/python3.8/dist-packages (from aiohttp->gradio) (6.0.4)\n",
            "Requirement already satisfied: attrs>=17.3.0 in /usr/local/lib/python3.8/dist-packages (from aiohttp->gradio) (22.2.0)\n",
            "Requirement already satisfied: charset-normalizer<3.0,>=2.0 in /usr/local/lib/python3.8/dist-packages (from aiohttp->gradio) (2.1.1)\n",
            "Requirement already satisfied: yarl<2.0,>=1.0 in /usr/local/lib/python3.8/dist-packages (from aiohttp->gradio) (1.8.2)\n",
            "Requirement already satisfied: async-timeout<5.0,>=4.0.0a3 in /usr/local/lib/python3.8/dist-packages (from aiohttp->gradio) (4.0.2)\n",
            "Requirement already satisfied: frozenlist>=1.1.1 in /usr/local/lib/python3.8/dist-packages (from aiohttp->gradio) (1.3.3)\n",
            "Requirement already satisfied: aiosignal>=1.1.2 in /usr/local/lib/python3.8/dist-packages (from aiohttp->gradio) (1.3.1)\n",
            "Collecting starlette==0.22.0\n",
            "  Downloading starlette-0.22.0-py3-none-any.whl (64 kB)\n",
            "\u001b[2K     \u001b[90m━━━━━━━━━━━━━━━━━━━━━━━━━━━━━━━━━━━━━━━━\u001b[0m \u001b[32m64.3/64.3 KB\u001b[0m \u001b[31m8.4 MB/s\u001b[0m eta \u001b[36m0:00:00\u001b[0m\n",
            "\u001b[?25hCollecting anyio<5,>=3.4.0\n",
            "  Downloading anyio-3.6.2-py3-none-any.whl (80 kB)\n",
            "\u001b[2K     \u001b[90m━━━━━━━━━━━━━━━━━━━━━━━━━━━━━━━━━━━━━━━━\u001b[0m \u001b[32m80.6/80.6 KB\u001b[0m \u001b[31m9.7 MB/s\u001b[0m eta \u001b[36m0:00:00\u001b[0m\n",
            "\u001b[?25hRequirement already satisfied: certifi in /usr/local/lib/python3.8/dist-packages (from httpx->gradio) (2022.12.7)\n",
            "Collecting rfc3986[idna2008]<2,>=1.3\n",
            "  Downloading rfc3986-1.5.0-py2.py3-none-any.whl (31 kB)\n",
            "Collecting httpcore<0.17.0,>=0.15.0\n",
            "  Downloading httpcore-0.16.3-py3-none-any.whl (69 kB)\n",
            "\u001b[2K     \u001b[90m━━━━━━━━━━━━━━━━━━━━━━━━━━━━━━━━━━━━━━━━\u001b[0m \u001b[32m69.6/69.6 KB\u001b[0m \u001b[31m9.0 MB/s\u001b[0m eta \u001b[36m0:00:00\u001b[0m\n",
            "\u001b[?25hCollecting sniffio\n",
            "  Downloading sniffio-1.3.0-py3-none-any.whl (10 kB)\n",
            "Collecting mdurl~=0.1\n",
            "  Downloading mdurl-0.1.2-py3-none-any.whl (10.0 kB)\n",
            "Collecting linkify-it-py~=1.0\n",
            "  Downloading linkify_it_py-1.0.3-py3-none-any.whl (19 kB)\n",
            "Collecting mdit-py-plugins\n",
            "  Downloading mdit_py_plugins-0.3.3-py3-none-any.whl (50 kB)\n",
            "\u001b[2K     \u001b[90m━━━━━━━━━━━━━━━━━━━━━━━━━━━━━━━━━━━━━━━━\u001b[0m \u001b[32m50.5/50.5 KB\u001b[0m \u001b[31m6.6 MB/s\u001b[0m eta \u001b[36m0:00:00\u001b[0m\n",
            "\u001b[?25hRequirement already satisfied: kiwisolver>=1.0.1 in /usr/local/lib/python3.8/dist-packages (from matplotlib->gradio) (1.4.4)\n",
            "Requirement already satisfied: cycler>=0.10 in /usr/local/lib/python3.8/dist-packages (from matplotlib->gradio) (0.11.0)\n",
            "Requirement already satisfied: pyparsing!=2.0.4,!=2.1.2,!=2.1.6,>=2.0.1 in /usr/local/lib/python3.8/dist-packages (from matplotlib->gradio) (3.0.9)\n",
            "Requirement already satisfied: six>=1.4.0 in /usr/local/lib/python3.8/dist-packages (from python-multipart->gradio) (1.15.0)\n",
            "Requirement already satisfied: idna<3,>=2.5 in /usr/local/lib/python3.8/dist-packages (from requests->gradio) (2.10)\n",
            "Requirement already satisfied: urllib3<1.27,>=1.21.1 in /usr/local/lib/python3.8/dist-packages (from requests->gradio) (1.24.3)\n",
            "Requirement already satisfied: chardet<5,>=3.0.2 in /usr/local/lib/python3.8/dist-packages (from requests->gradio) (4.0.0)\n",
            "Collecting h11>=0.8\n",
            "  Downloading h11-0.14.0-py3-none-any.whl (58 kB)\n",
            "\u001b[2K     \u001b[90m━━━━━━━━━━━━━━━━━━━━━━━━━━━━━━━━━━━━━━━━\u001b[0m \u001b[32m58.3/58.3 KB\u001b[0m \u001b[31m7.9 MB/s\u001b[0m eta \u001b[36m0:00:00\u001b[0m\n",
            "\u001b[?25hRequirement already satisfied: click>=7.0 in /usr/local/lib/python3.8/dist-packages (from uvicorn->gradio) (7.1.2)\n",
            "Requirement already satisfied: pyrsistent!=0.17.0,!=0.17.1,!=0.17.2,>=0.14.0 in /usr/local/lib/python3.8/dist-packages (from jsonschema>=3.0->altair>=4.2.0->gradio) (0.19.3)\n",
            "Requirement already satisfied: importlib-resources>=1.4.0 in /usr/local/lib/python3.8/dist-packages (from jsonschema>=3.0->altair>=4.2.0->gradio) (5.10.2)\n",
            "Collecting uc-micro-py\n",
            "  Downloading uc_micro_py-1.0.1-py3-none-any.whl (6.2 kB)\n",
            "Requirement already satisfied: zipp>=3.1.0 in /usr/local/lib/python3.8/dist-packages (from importlib-resources>=1.4.0->jsonschema>=3.0->altair>=4.2.0->gradio) (3.11.0)\n",
            "Building wheels for collected packages: ffmpy, python-multipart\n",
            "  Building wheel for ffmpy (setup.py) ... \u001b[?25l\u001b[?25hdone\n",
            "  Created wheel for ffmpy: filename=ffmpy-0.3.0-py3-none-any.whl size=4711 sha256=16ff65e24cab5653625b41b5719ebf898a67098f321ee01aa433e0ea17aeeb08\n",
            "  Stored in directory: /root/.cache/pip/wheels/ff/5b/59/913b443e7369dc04b61f607a746b6f7d83fb65e2e19fcc958d\n",
            "  Building wheel for python-multipart (setup.py) ... \u001b[?25l\u001b[?25hdone\n",
            "  Created wheel for python-multipart: filename=python_multipart-0.0.5-py3-none-any.whl size=31678 sha256=edb913a48f09e6f5bb7204d19e2f8b124bd9ff42e5baec5548c6dc0deb484fb5\n",
            "  Stored in directory: /root/.cache/pip/wheels/9e/fc/1c/cf980e6413d3ee8e70cd8f39e2366b0f487e3e221aeb452eb0\n",
            "Successfully built ffmpy python-multipart\n",
            "Installing collected packages: rfc3986, pydub, ffmpy, websockets, uc-micro-py, sniffio, python-multipart, pycryptodome, orjson, mdurl, h11, aiofiles, uvicorn, markdown-it-py, linkify-it-py, anyio, starlette, mdit-py-plugins, httpcore, httpx, fastapi, gradio\n",
            "Successfully installed aiofiles-22.1.0 anyio-3.6.2 fastapi-0.89.1 ffmpy-0.3.0 gradio-3.17.0 h11-0.14.0 httpcore-0.16.3 httpx-0.23.3 linkify-it-py-1.0.3 markdown-it-py-2.1.0 mdit-py-plugins-0.3.3 mdurl-0.1.2 orjson-3.8.5 pycryptodome-3.17 pydub-0.25.1 python-multipart-0.0.5 rfc3986-1.5.0 sniffio-1.3.0 starlette-0.22.0 uc-micro-py-1.0.1 uvicorn-0.20.0 websockets-10.4\n"
          ]
        }
      ]
    },
    {
      "cell_type": "code",
      "source": [
        "#importing dependencies\n",
        "import gradio as gr\n",
        "import pandas as pd\n",
        "import numpy as np\n",
        "import matplotlib.pyplot as plt\n",
        "import seaborn as sns\n",
        "import folium\n",
        "from sklearn.preprocessing import LabelEncoder, StandardScaler\n",
        "from sklearn.feature_selection import RFE\n",
        "from sklearn.model_selection import train_test_split, RandomizedSearchCV\n",
        "from sklearn.neighbors import KNeighborsClassifier\n",
        "from sklearn.linear_model import LogisticRegressionCV\n",
        "from sklearn.svm import SVC\n",
        "from sklearn.tree import DecisionTreeClassifier\n",
        "from sklearn.ensemble import RandomForestClassifier, ExtraTreesClassifier\n",
        "from xgboost import XGBClassifier\n",
        "from lightgbm import LGBMClassifier\n",
        "from sklearn.metrics import recall_score, confusion_matrix, roc_auc_score\n",
        "import pickle\n",
        "from sklearn.linear_model import LogisticRegression\n",
        "from sklearn.metrics import accuracy_score\n",
        "\n",
        "\n",
        "import warnings\n",
        "warnings.filterwarnings('ignore')"
      ],
      "metadata": {
        "id": "HP68D7MDQLGe"
      },
      "execution_count": null,
      "outputs": []
    },
    {
      "cell_type": "code",
      "source": [
        "#loading dataset to a pandaframe\n",
        "data = pd.read_csv('/content/drive/MyDrive/forecast_data.csv',low_memory=False)"
      ],
      "metadata": {
        "id": "9_NF8nGYQN6w"
      },
      "execution_count": null,
      "outputs": []
    },
    {
      "cell_type": "code",
      "source": [
        "# Many columns are same just with differnt units, for ex wind_mph and wind_kph. So, it's better to remove the redundancy\n",
        "redundant_columns = ['temp_f', 'wind_kph', 'pressure_in', 'precip_in', 'feelslike_f', 'windchill_f', 'heatindex_f', 'dewpoint_f', 'vis_miles', 'chance_of_rain', 'chance_of_snow','gust_kph']\n",
        "\n",
        "# Drop the redundant information\n",
        "data.drop(redundant_columns, axis=1, inplace=True)"
      ],
      "metadata": {
        "id": "xDugcvvedy81"
      },
      "execution_count": null,
      "outputs": []
    },
    {
      "cell_type": "code",
      "source": [
        "# Encode the categorical text values\n",
        "#cols_to_encode = ['condition','wind_dir', 'state', 'city']\n",
        "#for col in cols_to_encode:\n",
        "le = LabelEncoder()\n",
        "data['condition'] = le.fit_transform(data['condition'])\n",
        "data['wind_dir'] = le.fit_transform(data['wind_dir'])\n",
        "data['state'] = le.fit_transform(data['state'])\n",
        "data['city'] = le.fit_transform(data['city'])\n",
        "\n",
        "\n"
      ],
      "metadata": {
        "id": "wdZStGZ8S5-M"
      },
      "execution_count": null,
      "outputs": []
    },
    {
      "cell_type": "code",
      "source": [
        "data.head()"
      ],
      "metadata": {
        "id": "n8irojy4bj09",
        "colab": {
          "base_uri": "https://localhost:8080/",
          "height": 473
        },
        "outputId": "45c0e243-41e5-4d7c-fbd0-88e78e651158"
      },
      "execution_count": null,
      "outputs": [
        {
          "output_type": "execute_result",
          "data": {
            "text/plain": [
              "   time_epoch              time  temp_c  is_day  condition  wind_mph  \\\n",
              "0  1634236200  2021-10-15 00:00    23.2       0          0       4.3   \n",
              "1  1634239800  2021-10-15 01:00    23.0       0          0       4.1   \n",
              "2  1634243400  2021-10-15 02:00    22.7       0          0       4.0   \n",
              "3  1634247000  2021-10-15 03:00    22.5       0          0       3.8   \n",
              "4  1634250600  2021-10-15 04:00    22.3       0          0       3.7   \n",
              "\n",
              "   wind_degree  wind_dir  pressure_mb  precip_mm  ...  feelslike_c  \\\n",
              "0           41         4       1006.0        0.0  ...         25.1   \n",
              "1           34         4       1005.0        0.0  ...         25.0   \n",
              "2           28         5       1005.0        0.0  ...         24.9   \n",
              "3           22         5       1005.0        0.0  ...         24.8   \n",
              "4           23         5       1005.0        0.0  ...         24.7   \n",
              "\n",
              "   windchill_c  heatindex_c  dewpoint_c  will_it_rain  will_it_snow  vis_km  \\\n",
              "0         23.2         25.1        16.7             0             0    10.0   \n",
              "1         23.0         25.0        16.5             0             0    10.0   \n",
              "2         22.7         24.9        16.4             0             0    10.0   \n",
              "3         22.5         24.8        16.2             0             0    10.0   \n",
              "4         22.3         24.7        16.1             0             0    10.0   \n",
              "\n",
              "   gust_mph  state  city  \n",
              "0       8.9      0     7  \n",
              "1       8.6      0     7  \n",
              "2       8.4      0     7  \n",
              "3       8.1      0     7  \n",
              "4       7.9      0     7  \n",
              "\n",
              "[5 rows x 22 columns]"
            ],
            "text/html": [
              "\n",
              "  <div id=\"df-4bb12be2-268d-48ef-add7-906d25be3bbe\">\n",
              "    <div class=\"colab-df-container\">\n",
              "      <div>\n",
              "<style scoped>\n",
              "    .dataframe tbody tr th:only-of-type {\n",
              "        vertical-align: middle;\n",
              "    }\n",
              "\n",
              "    .dataframe tbody tr th {\n",
              "        vertical-align: top;\n",
              "    }\n",
              "\n",
              "    .dataframe thead th {\n",
              "        text-align: right;\n",
              "    }\n",
              "</style>\n",
              "<table border=\"1\" class=\"dataframe\">\n",
              "  <thead>\n",
              "    <tr style=\"text-align: right;\">\n",
              "      <th></th>\n",
              "      <th>time_epoch</th>\n",
              "      <th>time</th>\n",
              "      <th>temp_c</th>\n",
              "      <th>is_day</th>\n",
              "      <th>condition</th>\n",
              "      <th>wind_mph</th>\n",
              "      <th>wind_degree</th>\n",
              "      <th>wind_dir</th>\n",
              "      <th>pressure_mb</th>\n",
              "      <th>precip_mm</th>\n",
              "      <th>...</th>\n",
              "      <th>feelslike_c</th>\n",
              "      <th>windchill_c</th>\n",
              "      <th>heatindex_c</th>\n",
              "      <th>dewpoint_c</th>\n",
              "      <th>will_it_rain</th>\n",
              "      <th>will_it_snow</th>\n",
              "      <th>vis_km</th>\n",
              "      <th>gust_mph</th>\n",
              "      <th>state</th>\n",
              "      <th>city</th>\n",
              "    </tr>\n",
              "  </thead>\n",
              "  <tbody>\n",
              "    <tr>\n",
              "      <th>0</th>\n",
              "      <td>1634236200</td>\n",
              "      <td>2021-10-15 00:00</td>\n",
              "      <td>23.2</td>\n",
              "      <td>0</td>\n",
              "      <td>0</td>\n",
              "      <td>4.3</td>\n",
              "      <td>41</td>\n",
              "      <td>4</td>\n",
              "      <td>1006.0</td>\n",
              "      <td>0.0</td>\n",
              "      <td>...</td>\n",
              "      <td>25.1</td>\n",
              "      <td>23.2</td>\n",
              "      <td>25.1</td>\n",
              "      <td>16.7</td>\n",
              "      <td>0</td>\n",
              "      <td>0</td>\n",
              "      <td>10.0</td>\n",
              "      <td>8.9</td>\n",
              "      <td>0</td>\n",
              "      <td>7</td>\n",
              "    </tr>\n",
              "    <tr>\n",
              "      <th>1</th>\n",
              "      <td>1634239800</td>\n",
              "      <td>2021-10-15 01:00</td>\n",
              "      <td>23.0</td>\n",
              "      <td>0</td>\n",
              "      <td>0</td>\n",
              "      <td>4.1</td>\n",
              "      <td>34</td>\n",
              "      <td>4</td>\n",
              "      <td>1005.0</td>\n",
              "      <td>0.0</td>\n",
              "      <td>...</td>\n",
              "      <td>25.0</td>\n",
              "      <td>23.0</td>\n",
              "      <td>25.0</td>\n",
              "      <td>16.5</td>\n",
              "      <td>0</td>\n",
              "      <td>0</td>\n",
              "      <td>10.0</td>\n",
              "      <td>8.6</td>\n",
              "      <td>0</td>\n",
              "      <td>7</td>\n",
              "    </tr>\n",
              "    <tr>\n",
              "      <th>2</th>\n",
              "      <td>1634243400</td>\n",
              "      <td>2021-10-15 02:00</td>\n",
              "      <td>22.7</td>\n",
              "      <td>0</td>\n",
              "      <td>0</td>\n",
              "      <td>4.0</td>\n",
              "      <td>28</td>\n",
              "      <td>5</td>\n",
              "      <td>1005.0</td>\n",
              "      <td>0.0</td>\n",
              "      <td>...</td>\n",
              "      <td>24.9</td>\n",
              "      <td>22.7</td>\n",
              "      <td>24.9</td>\n",
              "      <td>16.4</td>\n",
              "      <td>0</td>\n",
              "      <td>0</td>\n",
              "      <td>10.0</td>\n",
              "      <td>8.4</td>\n",
              "      <td>0</td>\n",
              "      <td>7</td>\n",
              "    </tr>\n",
              "    <tr>\n",
              "      <th>3</th>\n",
              "      <td>1634247000</td>\n",
              "      <td>2021-10-15 03:00</td>\n",
              "      <td>22.5</td>\n",
              "      <td>0</td>\n",
              "      <td>0</td>\n",
              "      <td>3.8</td>\n",
              "      <td>22</td>\n",
              "      <td>5</td>\n",
              "      <td>1005.0</td>\n",
              "      <td>0.0</td>\n",
              "      <td>...</td>\n",
              "      <td>24.8</td>\n",
              "      <td>22.5</td>\n",
              "      <td>24.8</td>\n",
              "      <td>16.2</td>\n",
              "      <td>0</td>\n",
              "      <td>0</td>\n",
              "      <td>10.0</td>\n",
              "      <td>8.1</td>\n",
              "      <td>0</td>\n",
              "      <td>7</td>\n",
              "    </tr>\n",
              "    <tr>\n",
              "      <th>4</th>\n",
              "      <td>1634250600</td>\n",
              "      <td>2021-10-15 04:00</td>\n",
              "      <td>22.3</td>\n",
              "      <td>0</td>\n",
              "      <td>0</td>\n",
              "      <td>3.7</td>\n",
              "      <td>23</td>\n",
              "      <td>5</td>\n",
              "      <td>1005.0</td>\n",
              "      <td>0.0</td>\n",
              "      <td>...</td>\n",
              "      <td>24.7</td>\n",
              "      <td>22.3</td>\n",
              "      <td>24.7</td>\n",
              "      <td>16.1</td>\n",
              "      <td>0</td>\n",
              "      <td>0</td>\n",
              "      <td>10.0</td>\n",
              "      <td>7.9</td>\n",
              "      <td>0</td>\n",
              "      <td>7</td>\n",
              "    </tr>\n",
              "  </tbody>\n",
              "</table>\n",
              "<p>5 rows × 22 columns</p>\n",
              "</div>\n",
              "      <button class=\"colab-df-convert\" onclick=\"convertToInteractive('df-4bb12be2-268d-48ef-add7-906d25be3bbe')\"\n",
              "              title=\"Convert this dataframe to an interactive table.\"\n",
              "              style=\"display:none;\">\n",
              "        \n",
              "  <svg xmlns=\"http://www.w3.org/2000/svg\" height=\"24px\"viewBox=\"0 0 24 24\"\n",
              "       width=\"24px\">\n",
              "    <path d=\"M0 0h24v24H0V0z\" fill=\"none\"/>\n",
              "    <path d=\"M18.56 5.44l.94 2.06.94-2.06 2.06-.94-2.06-.94-.94-2.06-.94 2.06-2.06.94zm-11 1L8.5 8.5l.94-2.06 2.06-.94-2.06-.94L8.5 2.5l-.94 2.06-2.06.94zm10 10l.94 2.06.94-2.06 2.06-.94-2.06-.94-.94-2.06-.94 2.06-2.06.94z\"/><path d=\"M17.41 7.96l-1.37-1.37c-.4-.4-.92-.59-1.43-.59-.52 0-1.04.2-1.43.59L10.3 9.45l-7.72 7.72c-.78.78-.78 2.05 0 2.83L4 21.41c.39.39.9.59 1.41.59.51 0 1.02-.2 1.41-.59l7.78-7.78 2.81-2.81c.8-.78.8-2.07 0-2.86zM5.41 20L4 18.59l7.72-7.72 1.47 1.35L5.41 20z\"/>\n",
              "  </svg>\n",
              "      </button>\n",
              "      \n",
              "  <style>\n",
              "    .colab-df-container {\n",
              "      display:flex;\n",
              "      flex-wrap:wrap;\n",
              "      gap: 12px;\n",
              "    }\n",
              "\n",
              "    .colab-df-convert {\n",
              "      background-color: #E8F0FE;\n",
              "      border: none;\n",
              "      border-radius: 50%;\n",
              "      cursor: pointer;\n",
              "      display: none;\n",
              "      fill: #1967D2;\n",
              "      height: 32px;\n",
              "      padding: 0 0 0 0;\n",
              "      width: 32px;\n",
              "    }\n",
              "\n",
              "    .colab-df-convert:hover {\n",
              "      background-color: #E2EBFA;\n",
              "      box-shadow: 0px 1px 2px rgba(60, 64, 67, 0.3), 0px 1px 3px 1px rgba(60, 64, 67, 0.15);\n",
              "      fill: #174EA6;\n",
              "    }\n",
              "\n",
              "    [theme=dark] .colab-df-convert {\n",
              "      background-color: #3B4455;\n",
              "      fill: #D2E3FC;\n",
              "    }\n",
              "\n",
              "    [theme=dark] .colab-df-convert:hover {\n",
              "      background-color: #434B5C;\n",
              "      box-shadow: 0px 1px 3px 1px rgba(0, 0, 0, 0.15);\n",
              "      filter: drop-shadow(0px 1px 2px rgba(0, 0, 0, 0.3));\n",
              "      fill: #FFFFFF;\n",
              "    }\n",
              "  </style>\n",
              "\n",
              "      <script>\n",
              "        const buttonEl =\n",
              "          document.querySelector('#df-4bb12be2-268d-48ef-add7-906d25be3bbe button.colab-df-convert');\n",
              "        buttonEl.style.display =\n",
              "          google.colab.kernel.accessAllowed ? 'block' : 'none';\n",
              "\n",
              "        async function convertToInteractive(key) {\n",
              "          const element = document.querySelector('#df-4bb12be2-268d-48ef-add7-906d25be3bbe');\n",
              "          const dataTable =\n",
              "            await google.colab.kernel.invokeFunction('convertToInteractive',\n",
              "                                                     [key], {});\n",
              "          if (!dataTable) return;\n",
              "\n",
              "          const docLinkHtml = 'Like what you see? Visit the ' +\n",
              "            '<a target=\"_blank\" href=https://colab.research.google.com/notebooks/data_table.ipynb>data table notebook</a>'\n",
              "            + ' to learn more about interactive tables.';\n",
              "          element.innerHTML = '';\n",
              "          dataTable['output_type'] = 'display_data';\n",
              "          await google.colab.output.renderOutput(dataTable, element);\n",
              "          const docLink = document.createElement('div');\n",
              "          docLink.innerHTML = docLinkHtml;\n",
              "          element.appendChild(docLink);\n",
              "        }\n",
              "      </script>\n",
              "    </div>\n",
              "  </div>\n",
              "  "
            ]
          },
          "metadata": {},
          "execution_count": 8
        }
      ]
    },
    {
      "cell_type": "code",
      "source": [
        "# drop the time column\n",
        "data.drop('time', axis=1, inplace=True)\n"
      ],
      "metadata": {
        "id": "ayL1ZDuFbu71"
      },
      "execution_count": null,
      "outputs": []
    },
    {
      "cell_type": "code",
      "source": [
        "X = data.drop('will_it_rain', axis=1)\n",
        "y =data['will_it_rain']\n",
        "\n",
        "X_columns = X.columns\n",
        "ss = StandardScaler()\n",
        "X_scaled_arr = ss.fit_transform(X)\n",
        "\n",
        "# Create a new dataframe called X_scaled\n",
        "X_scaled = pd.DataFrame(X_scaled_arr, columns=X_columns)"
      ],
      "metadata": {
        "id": "mGo-E3ppc0eH"
      },
      "execution_count": null,
      "outputs": []
    },
    {
      "cell_type": "code",
      "source": [
        "X_scaled.head()"
      ],
      "metadata": {
        "id": "dlMstn93jnwr",
        "colab": {
          "base_uri": "https://localhost:8080/",
          "height": 270
        },
        "outputId": "14191211-61cc-4bb4-cfdf-aae2e2fa0e19"
      },
      "execution_count": null,
      "outputs": [
        {
          "output_type": "execute_result",
          "data": {
            "text/plain": [
              "   time_epoch    temp_c    is_day  condition  wind_mph  wind_degree  wind_dir  \\\n",
              "0   -1.723372 -0.406932 -0.955145  -1.335351 -0.273082    -1.321361 -0.682993   \n",
              "1   -1.705332 -0.448620 -0.955145  -1.335351 -0.343330    -1.388965 -0.682993   \n",
              "2   -1.687291 -0.511151 -0.955145  -1.335351 -0.378454    -1.446912 -0.478701   \n",
              "3   -1.669250 -0.552838 -0.955145  -1.335351 -0.448701    -1.504859 -0.478701   \n",
              "4   -1.651210 -0.594525 -0.955145  -1.335351 -0.483825    -1.495201 -0.478701   \n",
              "\n",
              "   pressure_mb  precip_mm  humidity     cloud  feelslike_c  windchill_c  \\\n",
              "0    -0.680838  -0.249591 -0.225008 -1.098891    -0.330904    -0.400067   \n",
              "1    -0.971657  -0.249591 -0.225008 -1.069833    -0.347982    -0.441333   \n",
              "2    -0.971657  -0.249591 -0.225008 -1.011717    -0.365060    -0.503232   \n",
              "3    -0.971657  -0.249591 -0.225008 -0.953600    -0.382138    -0.544498   \n",
              "4    -0.971657  -0.249591 -0.178603 -0.953600    -0.399216    -0.585764   \n",
              "\n",
              "   heatindex_c  dewpoint_c  will_it_snow    vis_km  gust_mph     state  \\\n",
              "0    -0.364536   -0.341289           0.0  0.370733  0.229968 -1.690892   \n",
              "1    -0.382056   -0.376280           0.0  0.370733  0.157522 -1.690892   \n",
              "2    -0.399576   -0.393775           0.0  0.370733  0.109225 -1.690892   \n",
              "3    -0.417095   -0.428765           0.0  0.370733  0.036779 -1.690892   \n",
              "4    -0.434615   -0.446260           0.0  0.370733 -0.011518 -1.690892   \n",
              "\n",
              "       city  \n",
              "0 -1.544443  \n",
              "1 -1.544443  \n",
              "2 -1.544443  \n",
              "3 -1.544443  \n",
              "4 -1.544443  "
            ],
            "text/html": [
              "\n",
              "  <div id=\"df-eecc8387-c014-4ba6-ab17-926dfdde82c3\">\n",
              "    <div class=\"colab-df-container\">\n",
              "      <div>\n",
              "<style scoped>\n",
              "    .dataframe tbody tr th:only-of-type {\n",
              "        vertical-align: middle;\n",
              "    }\n",
              "\n",
              "    .dataframe tbody tr th {\n",
              "        vertical-align: top;\n",
              "    }\n",
              "\n",
              "    .dataframe thead th {\n",
              "        text-align: right;\n",
              "    }\n",
              "</style>\n",
              "<table border=\"1\" class=\"dataframe\">\n",
              "  <thead>\n",
              "    <tr style=\"text-align: right;\">\n",
              "      <th></th>\n",
              "      <th>time_epoch</th>\n",
              "      <th>temp_c</th>\n",
              "      <th>is_day</th>\n",
              "      <th>condition</th>\n",
              "      <th>wind_mph</th>\n",
              "      <th>wind_degree</th>\n",
              "      <th>wind_dir</th>\n",
              "      <th>pressure_mb</th>\n",
              "      <th>precip_mm</th>\n",
              "      <th>humidity</th>\n",
              "      <th>cloud</th>\n",
              "      <th>feelslike_c</th>\n",
              "      <th>windchill_c</th>\n",
              "      <th>heatindex_c</th>\n",
              "      <th>dewpoint_c</th>\n",
              "      <th>will_it_snow</th>\n",
              "      <th>vis_km</th>\n",
              "      <th>gust_mph</th>\n",
              "      <th>state</th>\n",
              "      <th>city</th>\n",
              "    </tr>\n",
              "  </thead>\n",
              "  <tbody>\n",
              "    <tr>\n",
              "      <th>0</th>\n",
              "      <td>-1.723372</td>\n",
              "      <td>-0.406932</td>\n",
              "      <td>-0.955145</td>\n",
              "      <td>-1.335351</td>\n",
              "      <td>-0.273082</td>\n",
              "      <td>-1.321361</td>\n",
              "      <td>-0.682993</td>\n",
              "      <td>-0.680838</td>\n",
              "      <td>-0.249591</td>\n",
              "      <td>-0.225008</td>\n",
              "      <td>-1.098891</td>\n",
              "      <td>-0.330904</td>\n",
              "      <td>-0.400067</td>\n",
              "      <td>-0.364536</td>\n",
              "      <td>-0.341289</td>\n",
              "      <td>0.0</td>\n",
              "      <td>0.370733</td>\n",
              "      <td>0.229968</td>\n",
              "      <td>-1.690892</td>\n",
              "      <td>-1.544443</td>\n",
              "    </tr>\n",
              "    <tr>\n",
              "      <th>1</th>\n",
              "      <td>-1.705332</td>\n",
              "      <td>-0.448620</td>\n",
              "      <td>-0.955145</td>\n",
              "      <td>-1.335351</td>\n",
              "      <td>-0.343330</td>\n",
              "      <td>-1.388965</td>\n",
              "      <td>-0.682993</td>\n",
              "      <td>-0.971657</td>\n",
              "      <td>-0.249591</td>\n",
              "      <td>-0.225008</td>\n",
              "      <td>-1.069833</td>\n",
              "      <td>-0.347982</td>\n",
              "      <td>-0.441333</td>\n",
              "      <td>-0.382056</td>\n",
              "      <td>-0.376280</td>\n",
              "      <td>0.0</td>\n",
              "      <td>0.370733</td>\n",
              "      <td>0.157522</td>\n",
              "      <td>-1.690892</td>\n",
              "      <td>-1.544443</td>\n",
              "    </tr>\n",
              "    <tr>\n",
              "      <th>2</th>\n",
              "      <td>-1.687291</td>\n",
              "      <td>-0.511151</td>\n",
              "      <td>-0.955145</td>\n",
              "      <td>-1.335351</td>\n",
              "      <td>-0.378454</td>\n",
              "      <td>-1.446912</td>\n",
              "      <td>-0.478701</td>\n",
              "      <td>-0.971657</td>\n",
              "      <td>-0.249591</td>\n",
              "      <td>-0.225008</td>\n",
              "      <td>-1.011717</td>\n",
              "      <td>-0.365060</td>\n",
              "      <td>-0.503232</td>\n",
              "      <td>-0.399576</td>\n",
              "      <td>-0.393775</td>\n",
              "      <td>0.0</td>\n",
              "      <td>0.370733</td>\n",
              "      <td>0.109225</td>\n",
              "      <td>-1.690892</td>\n",
              "      <td>-1.544443</td>\n",
              "    </tr>\n",
              "    <tr>\n",
              "      <th>3</th>\n",
              "      <td>-1.669250</td>\n",
              "      <td>-0.552838</td>\n",
              "      <td>-0.955145</td>\n",
              "      <td>-1.335351</td>\n",
              "      <td>-0.448701</td>\n",
              "      <td>-1.504859</td>\n",
              "      <td>-0.478701</td>\n",
              "      <td>-0.971657</td>\n",
              "      <td>-0.249591</td>\n",
              "      <td>-0.225008</td>\n",
              "      <td>-0.953600</td>\n",
              "      <td>-0.382138</td>\n",
              "      <td>-0.544498</td>\n",
              "      <td>-0.417095</td>\n",
              "      <td>-0.428765</td>\n",
              "      <td>0.0</td>\n",
              "      <td>0.370733</td>\n",
              "      <td>0.036779</td>\n",
              "      <td>-1.690892</td>\n",
              "      <td>-1.544443</td>\n",
              "    </tr>\n",
              "    <tr>\n",
              "      <th>4</th>\n",
              "      <td>-1.651210</td>\n",
              "      <td>-0.594525</td>\n",
              "      <td>-0.955145</td>\n",
              "      <td>-1.335351</td>\n",
              "      <td>-0.483825</td>\n",
              "      <td>-1.495201</td>\n",
              "      <td>-0.478701</td>\n",
              "      <td>-0.971657</td>\n",
              "      <td>-0.249591</td>\n",
              "      <td>-0.178603</td>\n",
              "      <td>-0.953600</td>\n",
              "      <td>-0.399216</td>\n",
              "      <td>-0.585764</td>\n",
              "      <td>-0.434615</td>\n",
              "      <td>-0.446260</td>\n",
              "      <td>0.0</td>\n",
              "      <td>0.370733</td>\n",
              "      <td>-0.011518</td>\n",
              "      <td>-1.690892</td>\n",
              "      <td>-1.544443</td>\n",
              "    </tr>\n",
              "  </tbody>\n",
              "</table>\n",
              "</div>\n",
              "      <button class=\"colab-df-convert\" onclick=\"convertToInteractive('df-eecc8387-c014-4ba6-ab17-926dfdde82c3')\"\n",
              "              title=\"Convert this dataframe to an interactive table.\"\n",
              "              style=\"display:none;\">\n",
              "        \n",
              "  <svg xmlns=\"http://www.w3.org/2000/svg\" height=\"24px\"viewBox=\"0 0 24 24\"\n",
              "       width=\"24px\">\n",
              "    <path d=\"M0 0h24v24H0V0z\" fill=\"none\"/>\n",
              "    <path d=\"M18.56 5.44l.94 2.06.94-2.06 2.06-.94-2.06-.94-.94-2.06-.94 2.06-2.06.94zm-11 1L8.5 8.5l.94-2.06 2.06-.94-2.06-.94L8.5 2.5l-.94 2.06-2.06.94zm10 10l.94 2.06.94-2.06 2.06-.94-2.06-.94-.94-2.06-.94 2.06-2.06.94z\"/><path d=\"M17.41 7.96l-1.37-1.37c-.4-.4-.92-.59-1.43-.59-.52 0-1.04.2-1.43.59L10.3 9.45l-7.72 7.72c-.78.78-.78 2.05 0 2.83L4 21.41c.39.39.9.59 1.41.59.51 0 1.02-.2 1.41-.59l7.78-7.78 2.81-2.81c.8-.78.8-2.07 0-2.86zM5.41 20L4 18.59l7.72-7.72 1.47 1.35L5.41 20z\"/>\n",
              "  </svg>\n",
              "      </button>\n",
              "      \n",
              "  <style>\n",
              "    .colab-df-container {\n",
              "      display:flex;\n",
              "      flex-wrap:wrap;\n",
              "      gap: 12px;\n",
              "    }\n",
              "\n",
              "    .colab-df-convert {\n",
              "      background-color: #E8F0FE;\n",
              "      border: none;\n",
              "      border-radius: 50%;\n",
              "      cursor: pointer;\n",
              "      display: none;\n",
              "      fill: #1967D2;\n",
              "      height: 32px;\n",
              "      padding: 0 0 0 0;\n",
              "      width: 32px;\n",
              "    }\n",
              "\n",
              "    .colab-df-convert:hover {\n",
              "      background-color: #E2EBFA;\n",
              "      box-shadow: 0px 1px 2px rgba(60, 64, 67, 0.3), 0px 1px 3px 1px rgba(60, 64, 67, 0.15);\n",
              "      fill: #174EA6;\n",
              "    }\n",
              "\n",
              "    [theme=dark] .colab-df-convert {\n",
              "      background-color: #3B4455;\n",
              "      fill: #D2E3FC;\n",
              "    }\n",
              "\n",
              "    [theme=dark] .colab-df-convert:hover {\n",
              "      background-color: #434B5C;\n",
              "      box-shadow: 0px 1px 3px 1px rgba(0, 0, 0, 0.15);\n",
              "      filter: drop-shadow(0px 1px 2px rgba(0, 0, 0, 0.3));\n",
              "      fill: #FFFFFF;\n",
              "    }\n",
              "  </style>\n",
              "\n",
              "      <script>\n",
              "        const buttonEl =\n",
              "          document.querySelector('#df-eecc8387-c014-4ba6-ab17-926dfdde82c3 button.colab-df-convert');\n",
              "        buttonEl.style.display =\n",
              "          google.colab.kernel.accessAllowed ? 'block' : 'none';\n",
              "\n",
              "        async function convertToInteractive(key) {\n",
              "          const element = document.querySelector('#df-eecc8387-c014-4ba6-ab17-926dfdde82c3');\n",
              "          const dataTable =\n",
              "            await google.colab.kernel.invokeFunction('convertToInteractive',\n",
              "                                                     [key], {});\n",
              "          if (!dataTable) return;\n",
              "\n",
              "          const docLinkHtml = 'Like what you see? Visit the ' +\n",
              "            '<a target=\"_blank\" href=https://colab.research.google.com/notebooks/data_table.ipynb>data table notebook</a>'\n",
              "            + ' to learn more about interactive tables.';\n",
              "          element.innerHTML = '';\n",
              "          dataTable['output_type'] = 'display_data';\n",
              "          await google.colab.output.renderOutput(dataTable, element);\n",
              "          const docLink = document.createElement('div');\n",
              "          docLink.innerHTML = docLinkHtml;\n",
              "          element.appendChild(docLink);\n",
              "        }\n",
              "      </script>\n",
              "    </div>\n",
              "  </div>\n",
              "  "
            ]
          },
          "metadata": {},
          "execution_count": 11
        }
      ]
    },
    {
      "cell_type": "markdown",
      "source": [
        "Feature Selection"
      ],
      "metadata": {
        "id": "-kZ4l3FMJl0g"
      }
    },
    {
      "cell_type": "code",
      "source": [
        "# Using recursive feature elimination to select optimal number of features\n",
        "\n",
        "# Using an ensemble model like Random Forest to use as the model.\n",
        "\n",
        "'''\n",
        "Q. How to select a model for using RFE?\n",
        "A. One approach, use a model that offers scoring of features, like feature_importances_ in Random Forest.\n",
        "'''\n",
        "\n",
        "rfe_model = RandomForestClassifier()\n",
        "rfe = RFE(rfe_model, verbose=3)\n",
        "X_rfe = rfe.fit_transform(X_scaled, y)"
      ],
      "metadata": {
        "colab": {
          "base_uri": "https://localhost:8080/"
        },
        "id": "TlYA44-KJoYx",
        "outputId": "217bcd3c-4370-45b5-c8a9-58cbe769cd45"
      },
      "execution_count": null,
      "outputs": [
        {
          "output_type": "stream",
          "name": "stdout",
          "text": [
            "Fitting estimator with 20 features.\n",
            "Fitting estimator with 19 features.\n",
            "Fitting estimator with 18 features.\n",
            "Fitting estimator with 17 features.\n",
            "Fitting estimator with 16 features.\n",
            "Fitting estimator with 15 features.\n",
            "Fitting estimator with 14 features.\n",
            "Fitting estimator with 13 features.\n",
            "Fitting estimator with 12 features.\n",
            "Fitting estimator with 11 features.\n"
          ]
        }
      ]
    },
    {
      "cell_type": "code",
      "source": [
        "# Extract the important features\n",
        "feature_series = pd.Series(rfe.support_, index=X_columns)\n",
        "important_features = list(feature_series[feature_series == True].index)"
      ],
      "metadata": {
        "id": "XcyAubjRKCDR"
      },
      "execution_count": null,
      "outputs": []
    },
    {
      "cell_type": "code",
      "source": [
        "print(important_features)"
      ],
      "metadata": {
        "colab": {
          "base_uri": "https://localhost:8080/"
        },
        "id": "4DirBk7_KJWB",
        "outputId": "fc77f671-2485-4558-922f-c359c144e979"
      },
      "execution_count": null,
      "outputs": [
        {
          "output_type": "stream",
          "name": "stdout",
          "text": [
            "['time_epoch', 'condition', 'wind_degree', 'precip_mm', 'humidity', 'cloud', 'heatindex_c', 'dewpoint_c', 'vis_km', 'gust_mph']\n"
          ]
        }
      ]
    },
    {
      "cell_type": "code",
      "source": [
        "# Prepare the final dataset\n",
        "X_final = X_scaled[important_features] \n",
        "X_final =X_final.drop('precip_mm',axis=1)\n",
        "\n"
      ],
      "metadata": {
        "id": "h1vySo4-KO9Y"
      },
      "execution_count": null,
      "outputs": []
    },
    {
      "cell_type": "markdown",
      "source": [
        "Classification"
      ],
      "metadata": {
        "id": "-xjr_--HKdVr"
      }
    },
    {
      "cell_type": "code",
      "source": [
        "# Split the data into training and testing set\n",
        "X_train, X_test, y_train, y_test = train_test_split(X_final, y, test_size=0.2, random_state=42)"
      ],
      "metadata": {
        "id": "UwlDUFqzKjvS"
      },
      "execution_count": null,
      "outputs": []
    },
    {
      "cell_type": "code",
      "source": [
        "lr = LogisticRegression()\n",
        "lr.fit(X_train, y_train)\n"
      ],
      "metadata": {
        "colab": {
          "base_uri": "https://localhost:8080/"
        },
        "id": "tsn0i9p0K2NJ",
        "outputId": "0c36040e-c002-4a33-e177-1e435da5a34b"
      },
      "execution_count": null,
      "outputs": [
        {
          "output_type": "execute_result",
          "data": {
            "text/plain": [
              "LogisticRegression()"
            ]
          },
          "metadata": {},
          "execution_count": 17
        }
      ]
    },
    {
      "cell_type": "code",
      "source": [
        "def rainfall_predictor(time_epoch, condition, wind_degree, precip_mm, humidity, cloud, heatindex_c, dewpoint_c, vis_km):\n",
        "    inp = np.array([[time_epoch],[condition],[wind_degree],[precip_mm],[humidity],[cloud],[heatindex_c],[dewpoint_c],[vis_km]])\n",
        "    inp=inp.reshape(1,-1)\n",
        "    x=lr.predict(inp)\n",
        "    if(x==1):\n",
        "      return('RAINFALL EXPECTED')\n",
        "    else:\n",
        "      return('SAFE TO GO!!!')  \n",
        "demo = gr.Interface(fn=rainfall_predictor,\n",
        "                    inputs=[\"number\",\"number\",\"number\",\"number\",\"number\",\"number\",\"number\",\"number\",\"number\"],\n",
        "                    outputs=\"text\")\n",
        "demo.launch(share=True)"
      ],
      "metadata": {
        "colab": {
          "base_uri": "https://localhost:8080/",
          "height": 590
        },
        "id": "c3by1Zs5MX8J",
        "outputId": "bfcb30d5-3e81-41de-d113-02707a791263"
      },
      "execution_count": null,
      "outputs": [
        {
          "output_type": "stream",
          "name": "stdout",
          "text": [
            "Colab notebook detected. To show errors in colab notebook, set debug=True in launch()\n",
            "Running on public URL: https://bfd3200e-8437-416b.gradio.live\n",
            "\n",
            "This share link expires in 72 hours. For free permanent hosting and GPU upgrades (NEW!), check out Spaces: https://huggingface.co/spaces\n"
          ]
        },
        {
          "output_type": "display_data",
          "data": {
            "text/plain": [
              "<IPython.core.display.HTML object>"
            ],
            "text/html": [
              "<div><iframe src=\"https://bfd3200e-8437-416b.gradio.live\" width=\"100%\" height=\"500\" allow=\"autoplay; camera; microphone; clipboard-read; clipboard-write;\" frameborder=\"0\" allowfullscreen></iframe></div>"
            ]
          },
          "metadata": {}
        },
        {
          "output_type": "execute_result",
          "data": {
            "text/plain": []
          },
          "metadata": {},
          "execution_count": 18
        }
      ]
    },
    {
      "cell_type": "code",
      "source": [
        "X_train_prediction = lr.predict(X_train)\n",
        "training_data_accuracy = accuracy_score(X_train_prediction,y_train)"
      ],
      "metadata": {
        "id": "4E7U_f3IQnoU"
      },
      "execution_count": null,
      "outputs": []
    },
    {
      "cell_type": "code",
      "source": [
        "print(training_data_accuracy)"
      ],
      "metadata": {
        "colab": {
          "base_uri": "https://localhost:8080/"
        },
        "id": "04HL959eVJs8",
        "outputId": "f01a2f41-1ab3-40b8-dea3-c0328a534ea5"
      },
      "execution_count": null,
      "outputs": [
        {
          "output_type": "stream",
          "name": "stdout",
          "text": [
            "0.8994250443899552\n"
          ]
        }
      ]
    }
  ]
}
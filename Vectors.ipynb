{
  "nbformat": 4,
  "nbformat_minor": 0,
  "metadata": {
    "colab": {
      "name": "Vectors.ipynb",
      "provenance": [],
      "collapsed_sections": [],
      "authorship_tag": "ABX9TyOUk6Z7lMuwg3NJMGpXbPmh",
      "include_colab_link": true
    },
    "kernelspec": {
      "name": "python3",
      "display_name": "Python 3"
    },
    "language_info": {
      "name": "python"
    }
  },
  "cells": [
    {
      "cell_type": "markdown",
      "metadata": {
        "id": "view-in-github",
        "colab_type": "text"
      },
      "source": [
        "<a href=\"https://colab.research.google.com/github/anjalibvn/ML/blob/main/Vectors.ipynb\" target=\"_parent\"><img src=\"https://colab.research.google.com/assets/colab-badge.svg\" alt=\"Open In Colab\"/></a>"
      ]
    },
    {
      "cell_type": "code",
      "execution_count": 1,
      "metadata": {
        "id": "vkroUJvKInAy"
      },
      "outputs": [],
      "source": [
        "import numpy as np"
      ]
    },
    {
      "cell_type": "markdown",
      "source": [
        "Dot Product of 2 Vectors"
      ],
      "metadata": {
        "id": "WFA_Tcn4IvL-"
      }
    },
    {
      "cell_type": "code",
      "source": [
        "a = np.array([2,3])\n",
        "b = np.array([4,4])\n",
        "\n",
        "a_dot_b = np.dot(a,b)\n",
        "print(a_dot_b)"
      ],
      "metadata": {
        "colab": {
          "base_uri": "https://localhost:8080/"
        },
        "id": "okq4kn7KIzyg",
        "outputId": "fe7f7cc1-e8b0-47c1-de42-c003c85b5b60"
      },
      "execution_count": 2,
      "outputs": [
        {
          "output_type": "stream",
          "name": "stdout",
          "text": [
            "20\n"
          ]
        }
      ]
    },
    {
      "cell_type": "code",
      "source": [
        "c = np.array([40,20,35])\n",
        "d = np.array([53,24,68])\n",
        "c_dot_d= np.dot(c,d)\n",
        "print(c_dot_d)"
      ],
      "metadata": {
        "colab": {
          "base_uri": "https://localhost:8080/"
        },
        "id": "eqjxuj-oJPV1",
        "outputId": "d20b8902-8b94-4f91-f6b8-1c592ea419dc"
      },
      "execution_count": 3,
      "outputs": [
        {
          "output_type": "stream",
          "name": "stdout",
          "text": [
            "4980\n"
          ]
        }
      ]
    },
    {
      "cell_type": "markdown",
      "source": [
        "Cross Product Of 2 Vectors"
      ],
      "metadata": {
        "id": "v0HwWiXVJidI"
      }
    },
    {
      "cell_type": "code",
      "source": [
        "a = np.array([5,10,20])\n",
        "b = np.array([18,32,50])\n",
        "a_cross_b = np.cross(a,b)\n",
        "print(a_cross_b)"
      ],
      "metadata": {
        "colab": {
          "base_uri": "https://localhost:8080/"
        },
        "id": "qaEF3gMZJhDR",
        "outputId": "2dac11d4-8534-4213-9253-ed51327c83ad"
      },
      "execution_count": 6,
      "outputs": [
        {
          "output_type": "stream",
          "name": "stdout",
          "text": [
            "[-140  110  -20]\n"
          ]
        }
      ]
    },
    {
      "cell_type": "markdown",
      "source": [
        "Projection of one vector on the other"
      ],
      "metadata": {
        "id": "VpcGGqEzKrg7"
      }
    },
    {
      "cell_type": "code",
      "source": [
        "a= np.array([2,5])\n",
        "v = np.array([8,-6])\n",
        "#magnitude of 'v' vector\n",
        "magnitude_of_v = np.sqrt(sum(v**2)) \n",
        "\n",
        "proj_of_a_on_v = (np.dot(a,v)/(magnitude_of_v**2))*v\n",
        "print(\"Projection of a vector on v\",proj_of_a_on_v)"
      ],
      "metadata": {
        "colab": {
          "base_uri": "https://localhost:8080/"
        },
        "id": "wqVJrW8KKI6s",
        "outputId": "e1f85d5b-0e69-4a42-ac18-8d65d8738917"
      },
      "execution_count": 7,
      "outputs": [
        {
          "output_type": "stream",
          "name": "stdout",
          "text": [
            "Projection of a vector on v [-1.12  0.84]\n"
          ]
        }
      ]
    }
  ]
}
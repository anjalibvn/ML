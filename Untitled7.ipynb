{
  "nbformat": 4,
  "nbformat_minor": 0,
  "metadata": {
    "colab": {
      "provenance": [],
      "authorship_tag": "ABX9TyOWlOaoINmqyGlgOs9ctVfk",
      "include_colab_link": true
    },
    "kernelspec": {
      "name": "python3",
      "display_name": "Python 3"
    },
    "language_info": {
      "name": "python"
    }
  },
  "cells": [
    {
      "cell_type": "markdown",
      "metadata": {
        "id": "view-in-github",
        "colab_type": "text"
      },
      "source": [
        "<a href=\"https://colab.research.google.com/github/anjalibvn/ML/blob/main/Untitled7.ipynb\" target=\"_parent\"><img src=\"https://colab.research.google.com/assets/colab-badge.svg\" alt=\"Open In Colab\"/></a>"
      ]
    },
    {
      "cell_type": "code",
      "execution_count": null,
      "metadata": {
        "id": "fhFCaBrIkiq8"
      },
      "outputs": [],
      "source": [
        "class Linear_Regression():\n",
        "\n",
        "  # initiating the parameters (learning rate & no. of iterations)\n",
        "  def __init__(self, learning_rate, no_of_iterations):\n",
        "\n",
        "    self.learning_rate = learning_rate\n",
        "    self.no_of_iterations = no_of_iterations\n",
        "\n",
        "\n",
        "  def fit(self, X, Y ):\n",
        "\n",
        "    # number of training examples & number of features\n",
        "\n",
        "    self.m, self.n = X.shape  # number of rows & columns\n",
        "\n",
        "    # initiating the weight and bias \n",
        "\n",
        "    self.w = np.zeros(self.n)\n",
        "    self.b = 0\n",
        "    self.X = X\n",
        "    self.Y = Y\n",
        "      # implementing Gradient Descent\n",
        "    \n",
        "    for i in range(self.no_of_iterations):\n",
        "      self.update_weights()\n",
        "\n",
        "\n",
        "  def update_weights(self):\n",
        "\n",
        "    Y_prediction = self.predict(self.X)\n",
        "\n",
        "    # calculate gradients\n",
        "\n",
        "    dw = - (2 * (self.X.T).dot(self.Y - Y_prediction)) / self.m\n",
        "\n",
        "    db = - 2 * np.sum(self.Y - Y_prediction)/self.m\n",
        "\n",
        "    # upadating the weights\n",
        "    \n",
        "    self.w = self.w - self.learning_rate*dw\n",
        "    self.b = selb.b - self.learning_rate*db\n",
        " \n",
        "\n",
        "  def predict(self, X):\n",
        "\n",
        "    return X.dot(self.w) + self.b"
      ]
    }
  ]
}